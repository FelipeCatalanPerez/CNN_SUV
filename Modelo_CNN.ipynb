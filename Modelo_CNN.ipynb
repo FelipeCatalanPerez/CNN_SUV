{
 "cells": [
  {
   "attachments": {},
   "cell_type": "markdown",
   "metadata": {},
   "source": [
    "# Convolutional Neural Networks (CNN)\n",
    "## Clasificacion de autos modelo SUV\n",
    "Felipe Catalán\n",
    "\n",
    "0 = NO_SUV\n",
    "1 = SUV"
   ]
  },
  {
   "attachments": {},
   "cell_type": "markdown",
   "metadata": {},
   "source": [
    "## Librerias"
   ]
  },
  {
   "cell_type": "code",
   "execution_count": 2,
   "metadata": {},
   "outputs": [],
   "source": [
    "import pandas as pd\n",
    "import seaborn as sns\n",
    "import matplotlib.pyplot as plt\n",
    "import numpy as np\n",
    "\n",
    "from torchvision import datasets\n",
    "from torchvision import transforms \n",
    "import torch\n",
    "import torch.nn as nn\n",
    "import torch.nn.functional as F\n",
    "from matplotlib import pyplot as plt\n",
    "import datetime"
   ]
  },
  {
   "attachments": {},
   "cell_type": "markdown",
   "metadata": {},
   "source": [
    "## Data"
   ]
  },
  {
   "cell_type": "code",
   "execution_count": 3,
   "metadata": {},
   "outputs": [
    {
     "name": "stdout",
     "output_type": "stream",
     "text": [
      "['Cladificador_vehiculos_SUV']\n"
     ]
    }
   ],
   "source": [
    "# estoy en la raiz\n",
    "import os\n",
    "print(os.listdir(\"data_original\"))"
   ]
  },
  {
   "cell_type": "code",
   "execution_count": 4,
   "metadata": {},
   "outputs": [
    {
     "name": "stdout",
     "output_type": "stream",
     "text": [
      "Directory path:  data_original\n",
      "Folder name:  ['Cladificador_vehiculos_SUV']\n",
      "Directory path:  data_original\\Cladificador_vehiculos_SUV\n",
      "Folder name:  ['test', 'train']\n",
      "Directory path:  data_original\\Cladificador_vehiculos_SUV\\test\n",
      "Folder name:  ['NO_SUV', 'SUV']\n",
      "Directory path:  data_original\\Cladificador_vehiculos_SUV\\test\\NO_SUV\n",
      "Folder name:  []\n",
      "Directory path:  data_original\\Cladificador_vehiculos_SUV\\test\\SUV\n",
      "Folder name:  []\n",
      "Directory path:  data_original\\Cladificador_vehiculos_SUV\\train\n",
      "Folder name:  ['NO_SUV', 'SUV']\n",
      "Directory path:  data_original\\Cladificador_vehiculos_SUV\\train\\NO_SUV\n",
      "Folder name:  []\n",
      "Directory path:  data_original\\Cladificador_vehiculos_SUV\\train\\SUV\n",
      "Folder name:  []\n"
     ]
    }
   ],
   "source": [
    "# reviso que hay\n",
    "from os import walk\n",
    "for (dirpath, dirnames, filenames) in walk(\"data_original\"):\n",
    "    print(\"Directory path: \", dirpath)\n",
    "    print(\"Folder name: \", dirnames)\n",
    "#    print(\"File name: \", filenames)"
   ]
  },
  {
   "cell_type": "code",
   "execution_count": 5,
   "metadata": {},
   "outputs": [],
   "source": [
    "# estilo de imagen retina\n",
    "%matplotlib inline\n",
    "%config InlineBackend.figure_format = 'retina'"
   ]
  },
  {
   "cell_type": "code",
   "execution_count": 6,
   "metadata": {},
   "outputs": [],
   "source": [
    "import matplotlib.pyplot as plt\n",
    "\n",
    "import torch\n",
    "from torchvision import datasets, transforms\n",
    "\n",
    "# import helper  # helper function is defined below, no need for importing"
   ]
  },
  {
   "cell_type": "code",
   "execution_count": 7,
   "metadata": {},
   "outputs": [],
   "source": [
    "# define helper.py \n",
    "import matplotlib.pyplot as plt\n",
    "import numpy as np\n",
    "from torch import nn, optim\n",
    "from torch.autograd import Variable\n",
    "\n",
    "\n",
    "def test_network(net, trainloader):\n",
    "\n",
    "    criterion = nn.MSELoss()\n",
    "    optimizer = optim.Adam(net.parameters(), lr=0.001)\n",
    "\n",
    "    dataiter = iter(trainloader)\n",
    "    images, labels = dataiter.next()\n",
    "\n",
    "    # Create Variables for the inputs and targets\n",
    "    inputs = Variable(images)\n",
    "    targets = Variable(images)\n",
    "\n",
    "    # Clear the gradients from all Variables\n",
    "    optimizer.zero_grad()\n",
    "\n",
    "    # Forward pass, then backward pass, then update weights\n",
    "    output = net.forward(inputs)\n",
    "    loss = criterion(output, targets)\n",
    "    loss.backward()\n",
    "    optimizer.step()\n",
    "\n",
    "    return True\n",
    "\n",
    "\n",
    "def imshow(image, ax=None, title=None, normalize=True):\n",
    "    \"\"\"Imshow for Tensor.\"\"\"\n",
    "    if ax is None:\n",
    "        fig, ax = plt.subplots()\n",
    "    image = image.numpy().transpose((1, 2, 0))\n",
    "\n",
    "    if normalize:\n",
    "        mean = np.array([0.485, 0.456, 0.406])\n",
    "        std = np.array([0.229, 0.224, 0.225])\n",
    "        image = std * image + mean\n",
    "        image = np.clip(image, 0, 1)\n",
    "\n",
    "    ax.imshow(image)\n",
    "    ax.spines['top'].set_visible(False)\n",
    "    ax.spines['right'].set_visible(False)\n",
    "    ax.spines['left'].set_visible(False)\n",
    "    ax.spines['bottom'].set_visible(False)\n",
    "    ax.tick_params(axis='both', length=0)\n",
    "    ax.set_xticklabels('')\n",
    "    ax.set_yticklabels('')\n",
    "\n",
    "    return ax\n",
    "\n",
    "\n",
    "def view_recon(img, recon):\n",
    "    ''' Function for displaying an image (as a PyTorch Tensor) and its\n",
    "        reconstruction also a PyTorch Tensor\n",
    "    '''\n",
    "\n",
    "    fig, axes = plt.subplots(ncols=2, sharex=True, sharey=True)\n",
    "    axes[0].imshow(img.numpy().squeeze())\n",
    "    axes[1].imshow(recon.data.numpy().squeeze())\n",
    "    for ax in axes:\n",
    "        ax.axis('off')\n",
    "        ax.set_adjustable('box-forced')\n",
    "\n",
    "def view_classify(img, ps, version=\"MNIST\"):\n",
    "    ''' Function for viewing an image and it's predicted classes.\n",
    "    '''\n",
    "    ps = ps.data.numpy().squeeze()\n",
    "\n",
    "    fig, (ax1, ax2) = plt.subplots(figsize=(6,9), ncols=2)\n",
    "    ax1.imshow(img.resize_(1, 28, 28).numpy().squeeze())\n",
    "    ax1.axis('off')\n",
    "    ax2.barh(np.arange(10), ps)\n",
    "    ax2.set_aspect(0.1)\n",
    "    ax2.set_yticks(np.arange(10))\n",
    "    if version == \"MNIST\":\n",
    "        ax2.set_yticklabels(np.arange(10))\n",
    "    elif version == \"Fashion\":\n",
    "        ax2.set_yticklabels(['T-shirt/top',\n",
    "                            'Trouser',\n",
    "                            'Pullover',\n",
    "                            'Dress',\n",
    "                            'Coat',\n",
    "                            'Sandal',\n",
    "                            'Shirt',\n",
    "                            'Sneaker',\n",
    "                            'Bag',\n",
    "                            'Ankle Boot'], size='small');\n",
    "    ax2.set_title('Class Probability')\n",
    "    ax2.set_xlim(0, 1.1)\n",
    "\n",
    "    plt.tight_layout()"
   ]
  },
  {
   "attachments": {},
   "cell_type": "markdown",
   "metadata": {},
   "source": [
    "### Obteniendo la Data"
   ]
  },
  {
   "cell_type": "code",
   "execution_count": 9,
   "metadata": {},
   "outputs": [],
   "source": [
    "PATH = 'data_original\\Cladificador_vehiculos_SUV'"
   ]
  },
  {
   "cell_type": "code",
   "execution_count": 43,
   "metadata": {},
   "outputs": [],
   "source": [
    "# data_dir = 'data_original\\Cladificador_vehiculos_SUV/train'\n",
    "data_dir = PATH + '/train' # load from Kaggle\n",
    "\n",
    "transform = transforms.Compose([transforms.Resize(32),\n",
    "                                transforms.CenterCrop(32),\n",
    "                                transforms.ToTensor(),\n",
    "                                transforms.Normalize((0.4915, 0.4823, 0.4468),\n",
    "                                                    (0.2470, 0.2435, 0.2616))\n",
    "                               ])# TOD: compose transforms here\n",
    "dataset = datasets.ImageFolder(data_dir, transform=transform)     ##TO Do: create the ImageFolder\n",
    "dataloader = torch.utils.data.DataLoader(dataset, batch_size=64, shuffle=True) # TO Do: use the"
   ]
  },
  {
   "cell_type": "code",
   "execution_count": 64,
   "metadata": {},
   "outputs": [],
   "source": [
    "# data_dir = 'data_original\\Cladificador_vehiculos_SUV/train'\n",
    "data_dir_t = PATH + '/test' # load from Kaggle\n",
    "dataset_t = datasets.ImageFolder(data_dir_t, transform=transform)     ##TO Do: create the ImageFolder\n",
    "dataloader_t = torch.utils.data.DataLoader(dataset_t, batch_size=64, shuffle=True) # TO Do: use the"
   ]
  },
  {
   "cell_type": "code",
   "execution_count": 47,
   "metadata": {},
   "outputs": [
    {
     "data": {
      "text/plain": [
       "<AxesSubplot: >"
      ]
     },
     "execution_count": 47,
     "metadata": {},
     "output_type": "execute_result"
    },
    {
     "data": {
      "image/png": "[encoded data removed]",
      "text/plain": [
       "<Figure size 640x480 with 1 Axes>"
      ]
     },
     "metadata": {
      "image/png": {
       "height": 389,
       "width": 389
      }
     },
     "output_type": "display_data"
    }
   ],
   "source": [
    "# Plot one image\n",
    "img, label = dataset[6000]\n",
    "imshow(img)\n"
   ]
  },
  {
   "cell_type": "code",
   "execution_count": 50,
   "metadata": {},
   "outputs": [
    {
     "data": {
      "text/plain": [
       "1"
      ]
     },
     "execution_count": 50,
     "metadata": {},
     "output_type": "execute_result"
    }
   ],
   "source": [
    "label"
   ]
  },
  {
   "cell_type": "code",
   "execution_count": 48,
   "metadata": {},
   "outputs": [
    {
     "data": {
      "text/plain": [
       "torch.Tensor"
      ]
     },
     "execution_count": 48,
     "metadata": {},
     "output_type": "execute_result"
    }
   ],
   "source": [
    "type(img)"
   ]
  },
  {
   "cell_type": "code",
   "execution_count": 49,
   "metadata": {},
   "outputs": [
    {
     "name": "stdout",
     "output_type": "stream",
     "text": [
      "torch.Size([3, 32, 32])\n"
     ]
    }
   ],
   "source": [
    "print(img.shape)"
   ]
  },
  {
   "cell_type": "code",
   "execution_count": 67,
   "metadata": {},
   "outputs": [
    {
     "data": {
      "text/plain": [
       "<AxesSubplot: >"
      ]
     },
     "execution_count": 67,
     "metadata": {},
     "output_type": "execute_result"
    },
    {
     "data": {
      "image/png": "[encoded data removed]",
      "text/plain": [
       "<Figure size 640x480 with 1 Axes>"
      ]
     },
     "metadata": {
      "image/png": {
       "height": 389,
       "width": 389
      }
     },
     "output_type": "display_data"
    }
   ],
   "source": [
    "# Plot one image\n",
    "img, label = dataset_t[600]\n",
    "imshow(img)\n"
   ]
  },
  {
   "cell_type": "code",
   "execution_count": 68,
   "metadata": {},
   "outputs": [],
   "source": [
    "#### NOOOOO me bota todo porque?\n",
    "# Select birds and airplanes\n",
    "label_map = {0:0, 1:1}\n",
    "class_names = ['NO_SUV', 'SUV']\n",
    "\n",
    "dataset_1 = [(img, label_map[label]) for img, label in dataset if label in [0, 1]]\n",
    "dataset_2 = [(img, label_map[label]) for img, label in dataset_t if label in [0, 1]]"
   ]
  },
  {
   "attachments": {},
   "cell_type": "markdown",
   "metadata": {},
   "source": [
    "## Modelo"
   ]
  },
  {
   "cell_type": "markdown",
   "metadata": {},
   "source": []
  },
  {
   "cell_type": "code",
   "execution_count": 53,
   "metadata": {},
   "outputs": [],
   "source": [
    "# Model \n",
    "class CNN(nn.Module):\n",
    "    def __init__(self):\n",
    "        super().__init__()\n",
    "        ## 2 convolutional layer\n",
    "        # elementos a utilizar hay que cambiarles los valores?\n",
    "        # 3(todos los colores), 16 --> 8,16,32,64,128(hiperparametro) estan bien.\n",
    "        # Kernel_size matriz o filtro que se aplicaba en la imagen original.\n",
    "        # Kernel_size 3ntre 3 y 5 los valores habituales.\n",
    "        # padding me ayuda a debolver la imagen a su tamaño original\n",
    "        # padding va de 0 hasta 2, hiperparametro(probar y ver cual funciona mejor)\n",
    "        self.conv1 = nn.Conv2d(3, 16, kernel_size=3, padding=1) # convolutional layer (3=channel=3colores)(kernel=filtro?)\n",
    "        # el output va a ser el input del siguiente 16\n",
    "        # estos valores hay que ir probandolos\n",
    "        self.conv2 = nn.Conv2d(16, 8, kernel_size=3, padding=1) # convolutional layer\n",
    "        ## fully-connected\n",
    "        # porque es 8*8*8?\n",
    "        # un monton de informacion de un layer gigante lo reduje a 32\n",
    "        self.fc1 = nn.Linear(8 * 8 * 8, 32)                     # Fully connected\n",
    "        # el 32 que salio volvio a entrar, es un 2 por la dummy\n",
    "        self.fc2 = nn.Linear(32, 2)                             # Fully connected\n",
    "    def forward(self, x): # input img\n",
    "        # aplicando los layers\n",
    "        # usamos el convolutional layer 1\n",
    "        #torch.tanh es la funcion de activacion\n",
    "        # max_pool2d es para reducir de tamaño la matriz\n",
    "        # x es n vector : [batch_size, channel, h, w]\n",
    "        out = F.max_pool2d(torch.tanh(self.conv1(x)), 2)        # max pooling\n",
    "        out = F.max_pool2d(torch.tanh(self.conv2(out)), 2)      # max pooling\n",
    "        out = out.view(-1, 8 * 8 * 8)                           # tranform the out\n",
    "        out = torch.tanh(self.fc1(out))\n",
    "        out = self.fc2(out)\n",
    "        return out  # dim: number of class"
   ]
  },
  {
   "attachments": {},
   "cell_type": "markdown",
   "metadata": {},
   "source": [
    "El modelo funciona?"
   ]
  },
  {
   "cell_type": "code",
   "execution_count": 54,
   "metadata": {},
   "outputs": [],
   "source": [
    "model = CNN()"
   ]
  },
  {
   "cell_type": "code",
   "execution_count": 55,
   "metadata": {},
   "outputs": [],
   "source": [
    "# [batch_size, channel, h, w]\n",
    "mt = torch.randn(1,3,32,32)"
   ]
  },
  {
   "cell_type": "code",
   "execution_count": 56,
   "metadata": {},
   "outputs": [
    {
     "data": {
      "text/plain": [
       "tensor([[-0.0284,  0.0245]], grad_fn=<AddmmBackward0>)"
      ]
     },
     "execution_count": 56,
     "metadata": {},
     "output_type": "execute_result"
    }
   ],
   "source": [
    "model(mt)"
   ]
  },
  {
   "cell_type": "code",
   "execution_count": 57,
   "metadata": {},
   "outputs": [
    {
     "data": {
      "text/plain": [
       "torch.Size([1, 2])"
      ]
     },
     "execution_count": 57,
     "metadata": {},
     "output_type": "execute_result"
    }
   ],
   "source": [
    "model(mt).shape"
   ]
  },
  {
   "cell_type": "code",
   "execution_count": 58,
   "metadata": {},
   "outputs": [],
   "source": [
    "# Training function \n",
    "def training_loop(n_epochs, optimizer, model, loss_fn, train_loader):\n",
    "    loss_list = []\n",
    "    # definimos los ipoks(?), es decir, cuantas veces vamos a pasar toda la muestra por el modelo\n",
    "    for epoch in range(1, n_epochs + 1):\n",
    "        # guardamos los valores de la funcion de perdida\n",
    "        loss_train = 0.0 \n",
    "        # labels: categoria 0 o 1\n",
    "        # imags imagen poasa por el modelo\n",
    "        for imgs, labels in train_loader:  # batch \n",
    "            # modelo te da un output\n",
    "            outputs = model(imgs)\n",
    "            # el output se compara con los labels\n",
    "            loss = loss_fn(outputs, labels)\n",
    "            # receteo los valores gradientes\n",
    "            optimizer.zero_grad()\n",
    "            # calculo el back propagation\n",
    "            loss.backward()               # backpro\n",
    "            # hago el update de los parametros\n",
    "            optimizer.step()              # update w\n",
    "            \n",
    "            #iteraciones\n",
    "\n",
    "            loss_train += loss.item()\n",
    "        if epoch == 1 or epoch % 10 == 0:\n",
    "            print('Epoch {}, Training loss {}'.format(epoch,\n",
    "            loss_train / len(train_loader)))\n",
    "            loss_list.append(loss_train / len(train_loader))\n",
    "    return loss_list"
   ]
  },
  {
   "cell_type": "code",
   "execution_count": 59,
   "metadata": {},
   "outputs": [],
   "source": [
    "# Dataloader\n",
    "# en lugar de pasar las 6500 imagenes al modelo, le pasamos en grupos de 64 o sino es muy pesado\n",
    "# en vez de 64 puede ser 32?\n",
    "# shuffle reordena las imagenes en diferentes formas para que el modelo no memorice las imagenes.\n",
    "\n",
    "train_loader = torch.utils.data.DataLoader(dataset_1, batch_size=64, shuffle=True)"
   ]
  },
  {
   "cell_type": "code",
   "execution_count": 62,
   "metadata": {},
   "outputs": [
    {
     "data": {
      "text/plain": [
       "torch.utils.data.dataloader.DataLoader"
      ]
     },
     "execution_count": 62,
     "metadata": {},
     "output_type": "execute_result"
    }
   ],
   "source": [
    "type(train_loader)"
   ]
  },
  {
   "attachments": {},
   "cell_type": "markdown",
   "metadata": {},
   "source": [
    "loss_fn, que funcion de perdida tengo que usar?\n",
    "\n",
    "- Uso Cross entropi loss porque estoy haciendo clasificacion.\n",
    "\n",
    "El optimizer es el mismo el estocastic gradian decent(?) "
   ]
  },
  {
   "cell_type": "code",
   "execution_count": 63,
   "metadata": {},
   "outputs": [
    {
     "name": "stdout",
     "output_type": "stream",
     "text": [
      "Epoch 1, Training loss 0.49042541197701994\n",
      "Epoch 10, Training loss 0.447690767400405\n",
      "Epoch 20, Training loss 0.43791962414979935\n",
      "Epoch 30, Training loss 0.427215764773827\n",
      "Epoch 40, Training loss 0.41321130023867475\n",
      "Epoch 50, Training loss 0.39842475746192185\n"
     ]
    }
   ],
   "source": [
    "# Run, traning\n",
    "model = CNN()                                      # call our cnn class\n",
    "optimizer = torch.optim.SGD(model.parameters(), lr=0.01) # Stochastic gradient descent, Lr:01,0.01,0.001\n",
    "loss_fn = nn.CrossEntropyLoss()                    # Loss function\n",
    "\n",
    "Loss1 = training_loop(\n",
    "    n_epochs = 50,\n",
    "    optimizer = optimizer,\n",
    "    model = model,\n",
    "    loss_fn = loss_fn,\n",
    "    train_loader = train_loader,\n",
    ")"
   ]
  },
  {
   "cell_type": "code",
   "execution_count": 70,
   "metadata": {},
   "outputs": [
    {
     "data": {
      "text/plain": [
       "Text(0, 0.5, 'Loss')"
      ]
     },
     "execution_count": 70,
     "metadata": {},
     "output_type": "execute_result"
    },
    {
     "data": {
      "image/png": "[encoded data removed]",
      "text/plain": [
       "<Figure size 640x480 with 1 Axes>"
      ]
     },
     "metadata": {
      "image/png": {
       "height": 432,
       "width": 576
      }
     },
     "output_type": "display_data"
    }
   ],
   "source": [
    "# plot loss\n",
    "plt.plot(Loss1)\n",
    "plt.xlabel('Epoch(x10)')\n",
    "plt.ylabel('Loss')"
   ]
  },
  {
   "attachments": {},
   "cell_type": "markdown",
   "metadata": {},
   "source": [
    "## Resultados"
   ]
  },
  {
   "cell_type": "code",
   "execution_count": 71,
   "metadata": {},
   "outputs": [
    {
     "name": "stdout",
     "output_type": "stream",
     "text": [
      "Accuracy train: 0.83\n",
      "Accuracy val: 0.81\n"
     ]
    }
   ],
   "source": [
    "# Testing metric\n",
    "train_loader = torch.utils.data.DataLoader(dataset_1, batch_size=64,\n",
    "                                            shuffle=False)\n",
    "val_loader = torch.utils.data.DataLoader(dataset_2, batch_size=64,\n",
    "                                            shuffle=False)\n",
    "def validate(model, train_loader, val_loader):\n",
    "    for name, loader in [(\"train\", train_loader), (\"val\", val_loader)]:\n",
    "        correct = 0\n",
    "        total = 0\n",
    "        with torch.no_grad():\n",
    "            for imgs, labels in loader:\n",
    "                outputs = model(imgs)\n",
    "                _, predicted = torch.max(outputs, dim=1)\n",
    "                total += labels.shape[0]\n",
    "                # metrics: Acc, F1, AUC, Precision, Recall, \n",
    "                correct += int((predicted == labels).sum())\n",
    "        print(\"Accuracy {}: {:.2f}\".format(name , correct / total))\n",
    "\n",
    "validate(model, train_loader, val_loader)"
   ]
  }
 ],
 "metadata": {
  "kernelspec": {
   "display_name": "Python 3",
   "language": "python",
   "name": "python3"
  },
  "language_info": {
   "codemirror_mode": {
    "name": "ipython",
    "version": 3
   },
   "file_extension": ".py",
   "mimetype": "text/x-python",
   "name": "python",
   "nbconvert_exporter": "python",
   "pygments_lexer": "ipython3",
   "version": "3.10.7"
  },
  "orig_nbformat": 4
 },
 "nbformat": 4,
 "nbformat_minor": 2
}
